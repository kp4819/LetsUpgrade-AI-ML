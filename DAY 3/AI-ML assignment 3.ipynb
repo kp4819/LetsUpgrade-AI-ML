{
 "cells": [
  {
   "cell_type": "code",
   "execution_count": 2,
   "metadata": {},
   "outputs": [
    {
     "name": "stdout",
     "output_type": "stream",
     "text": [
      "enter 1st number5+6j\n",
      "enter 2nd number6+7j\n",
      "(-1-1j)\n"
     ]
    }
   ],
   "source": [
    "#1 write a program to subtract two complex number\n",
    "x =complex(input('enter 1st number'))\n",
    "y =complex(input('enter 2nd number'))\n",
    "z=x-y\n",
    "print(z)"
   ]
  },
  {
   "cell_type": "code",
   "execution_count": 3,
   "metadata": {},
   "outputs": [
    {
     "name": "stdout",
     "output_type": "stream",
     "text": [
      "enter the no10\n",
      "1.7782794100389228\n"
     ]
    }
   ],
   "source": [
    "#2 write a program to find 4th root of number\n",
    "x =int(input('enter the no'))\n",
    "y=x**(1/4)\n",
    "print (y)"
   ]
  },
  {
   "cell_type": "code",
   "execution_count": 4,
   "metadata": {},
   "outputs": [
    {
     "name": "stdout",
     "output_type": "stream",
     "text": [
      "enter value of x5\n",
      "enter value of y6\n",
      "value of x after swap- 6\n",
      "value of y after swap- 5\n"
     ]
    }
   ],
   "source": [
    "#3 write a program to swap two numbers using temporary variable \n",
    "x =(input('enter value of x'))\n",
    "y =(input('enter value of y'))\n",
    "\n",
    "temp=x\n",
    "x=y\n",
    "y=temp\n",
    "\n",
    "print(\"value of x after swap-\",x)\n",
    "print(\"value of y after swap-\",y)"
   ]
  },
  {
   "cell_type": "code",
   "execution_count": 6,
   "metadata": {},
   "outputs": [
    {
     "name": "stdout",
     "output_type": "stream",
     "text": [
      "enter 1st number6\n",
      "enter 2nd number9\n",
      "value of x after swap- 9\n",
      "value of y after swap- 6\n"
     ]
    }
   ],
   "source": [
    "#4 write a program to swap two numbers using temporary variable\n",
    "x =int((input('enter 1st number')))\n",
    "y =int((input('enter 2nd number')))\n",
    "x,y=y,x\n",
    "\n",
    "print(\"value of x after swap-\",x)\n",
    "print(\"value of y after swap-\",y)"
   ]
  },
  {
   "cell_type": "code",
   "execution_count": 7,
   "metadata": {},
   "outputs": [
    {
     "name": "stdout",
     "output_type": "stream",
     "text": [
      "enter the temperature in fahrenheit=100\n",
      "temperature in celsius= 37.77777777777778\n",
      "temperature in kelvin= 310.92777777777775\n"
     ]
    }
   ],
   "source": [
    "#5 write a program to convert fahrenheit to celsius and kelvin \n",
    "F =float((input('enter the temperature in fahrenheit=')))\n",
    "C=(F-32)*(5/9)\n",
    "K=C+273.15\n",
    "print(\"temperature in celsius=\",C)\n",
    "print(\"temperature in kelvin=\",K)\n"
   ]
  },
  {
   "cell_type": "code",
   "execution_count": 9,
   "metadata": {},
   "outputs": [
    {
     "name": "stdout",
     "output_type": "stream",
     "text": [
      "a= 5 <class 'int'>\n",
      "b= 5.456 <class 'float'>\n",
      "c= (5.456+5j) <class 'complex'>\n"
     ]
    }
   ],
   "source": [
    "#6 write a program to demonstrate all the available data types in Python. hint: use type function\n",
    "a=5\n",
    "b=a+.456\n",
    "c=b+5j\n",
    "print('a=',a,type(a))\n",
    "print('b=',b,type(b))\n",
    "print('c=',c,type(c))"
   ]
  },
  {
   "cell_type": "markdown",
   "metadata": {},
   "source": [
    "___#7 steps to make a github profile and upload assignments___\n",
    "\n",
    "Go to the github website\n",
    "Type a user name, your email address, and a password.\n",
    "Choose Sign up for GitHub, and then follow the instructions.\n",
    "\n",
    "STEP 1: click on create a repository. (where all the project files are stored).\n",
    "\n",
    "STEP 2: give a repository name of your choice and give the description about the repository.\n",
    "\n",
    "STEP 3: keep your repository public that is all can see your project files/assignments.\n",
    "\n",
    "STEP 4: click on create repository.\n",
    "\n",
    "__now to upload your assignments:__\n",
    "\n",
    "STEP 1: login into your github account.\n",
    "\n",
    "STEP 2: click on the repository you created. \n",
    "\n",
    "STEP 3: click on add existing file.\n",
    "\n",
    "STEP 4: choose the file to be uploaded and click on ok.\n",
    "\n",
    "STEP 5: now you will find the link of your file/assignment as it is uploaded,copy the link of assignment.\n",
    "\n",
    "STEP 6:open the google form to submit assignment and paste the link in the form and submit the form with proper details.\n",
    "\n"
   ]
  },
  {
   "cell_type": "code",
   "execution_count": 10,
   "metadata": {},
   "outputs": [
    {
     "data": {
      "text/plain": [
       "'C:\\\\Users\\\\HITENDRA PATIL'"
      ]
     },
     "execution_count": 10,
     "metadata": {},
     "output_type": "execute_result"
    }
   ],
   "source": [
    "import os\n",
    "os.getcwd()"
   ]
  },
  {
   "cell_type": "code",
   "execution_count": null,
   "metadata": {},
   "outputs": [],
   "source": []
  }
 ],
 "metadata": {
  "kernelspec": {
   "display_name": "Python 3",
   "language": "python",
   "name": "python3"
  },
  "language_info": {
   "codemirror_mode": {
    "name": "ipython",
    "version": 3
   },
   "file_extension": ".py",
   "mimetype": "text/x-python",
   "name": "python",
   "nbconvert_exporter": "python",
   "pygments_lexer": "ipython3",
   "version": "3.7.6"
  }
 },
 "nbformat": 4,
 "nbformat_minor": 4
}
