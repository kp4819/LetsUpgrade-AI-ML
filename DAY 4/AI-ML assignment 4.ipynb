{
 "cells": [
  {
   "cell_type": "code",
   "execution_count": 5,
   "metadata": {},
   "outputs": [
    {
     "name": "stdout",
     "output_type": "stream",
     "text": [
      "enter 1st number6-2j\n",
      "enter 2nd number4+5j\n",
      "add = (10+3j)\n",
      "sub = (2-7j)\n",
      "mult = (34+22j)\n",
      "divi = (0.3414634146341465-0.926829268292683j)\n",
      "\n",
      "here floor division,modulo operation cannot be performed\n"
     ]
    }
   ],
   "source": [
    "#1 Research on whether addition, subtraction, multiplication, division, floor division and modulous operationsbe performed on complex numbers. Based on your study, implement a Python program to demonstrate these operations.\n",
    "x =complex(input('enter 1st number'))\n",
    "y =complex(input('enter 2nd number'))\n",
    "add=x+y\n",
    "sub=x-y\n",
    "mult=x*y\n",
    "divi=x/y\n",
    "\n",
    "print(\"add =\",add)\n",
    "print(\"sub =\",sub)\n",
    "print(\"mult =\",mult)\n",
    "print(\"divi =\",divi)\n",
    "print()\n",
    "\n",
    "\n",
    "\n",
    "print('here floor division,modulo operation cannot be performed')\n"
   ]
  },
  {
   "cell_type": "code",
   "execution_count": 6,
   "metadata": {},
   "outputs": [
    {
     "name": "stdout",
     "output_type": "stream",
     "text": [
      "enter value of x =100\n",
      "enter value of y =25\n",
      "sub = 75\n",
      "mul = 2500\n"
     ]
    }
   ],
   "source": [
    "#3 Consider two numbers. Perform their subtraction and if the result of subtraction is greater than 25, print their multiplication result else print their division result.\n",
    "x =int((input('enter value of x =')))\n",
    "y =int((input('enter value of y =')))\n",
    "sub=x-y\n",
    "print(\"sub =\",sub)\n",
    "if(sub>25.0):\n",
    "    print(\"mul =\",x*y)\n",
    "else:\n",
    "    print(\"div =\",x/y)\n"
   ]
  },
  {
   "cell_type": "code",
   "execution_count": 6,
   "metadata": {},
   "outputs": [
    {
     "name": "stdout",
     "output_type": "stream",
     "text": [
      "i4 5 6 1 2 3 75 \n",
      "14\n",
      "34\n",
      "2\n"
     ]
    }
   ],
   "source": [
    "#4 Consider a list of 10 elements of integer values. If the number in the list is divisible by 2, print the result as \"square of that number minus 2\"\n",
    "lst =(input(\"i\"))\n",
    "userlist=lst.split()\n",
    "for num in userlist:\n",
    "    a=int(num)\n",
    "    if(a%2==0):\n",
    "     print(a**2-2)\n",
    "    type(lst)"
   ]
  },
  {
   "cell_type": "code",
   "execution_count": 24,
   "metadata": {},
   "outputs": [
    {
     "name": "stdout",
     "output_type": "stream",
     "text": [
      "Enter number of elements : 10\n",
      "4\n",
      "7\n",
      "8\n",
      "10\n",
      "11\n",
      "22\n",
      "29\n",
      "31\n",
      "38\n",
      "45\n",
      "[4, 7, 8, 10, 11, 22, 29, 31, 38, 45]\n",
      "element divisible by 2 and greater the 7 = 8\n",
      "element divisible by 2 and greater the 7 = 10\n",
      "element divisible by 2 and greater the 7 = 22\n",
      "element divisible by 2 and greater the 7 = 38\n"
     ]
    }
   ],
   "source": [
    "#5 Consider a list of 10 elements. Print all the elements in the list which are greater than 7 when that number is divided 2.\n",
    "lst = []  \n",
    "n = int(input(\"Enter number of elements : \"))  \n",
    "for i in range(0, n): \n",
    "    elem = int(input()) \n",
    "    lst.append(elem) \n",
    "print(lst)\n",
    "for num in lst:\n",
    "    a=int(num)    \n",
    "    if(a%2==0):\n",
    "        if(a>7):\n",
    "            print(\"element divisible by 2 and greater the 7 =\",a)    \n"
   ]
  },
  {
   "cell_type": "code",
   "execution_count": null,
   "metadata": {},
   "outputs": [],
   "source": [
    "\n",
    "\n"
   ]
  },
  {
   "cell_type": "markdown",
   "metadata": {},
   "source": [
    "# 2 Research on range() functions and its parameters. Create a markdown cell and write in your own words (no copy-paste from google please) what you understand about it. Implement a small program of your choice on the same.\n",
    "The range() function is used to form a list of numbers over time.\n",
    "the syntax of range function can be written as range(start, stop , step)\n",
    "here, \"start\" parameter defines the starting point of sequence/list.\n",
    "      \"stop\" parameter defines the ending point of sequence/list.\n",
    "      \"step\" parameter defines the step size between two numbers and it is not compulsary to mension the step.\n",
    "      "
   ]
  },
  {
   "cell_type": "code",
   "execution_count": 26,
   "metadata": {},
   "outputs": [
    {
     "name": "stdout",
     "output_type": "stream",
     "text": [
      "range(0, 5)\n",
      "[0, 1, 2, 3, 4]\n",
      "[-2, -1, 0, 1]\n",
      "[-100, -99, -98, -97, -96]\n"
     ]
    }
   ],
   "source": [
    "#1 example\n",
    "print(range(5))\n",
    "print(list(range(5)))\n",
    "\n"
   ]
  },
  {
   "cell_type": "code",
   "execution_count": 27,
   "metadata": {},
   "outputs": [
    {
     "name": "stdout",
     "output_type": "stream",
     "text": [
      "range(1, 20, 3)\n",
      "[1, 4, 7, 10, 13, 16, 19]\n"
     ]
    }
   ],
   "source": [
    "#2 example using step parameter\n",
    "print( range(1, 20, 3))\n",
    "print(list(range(1, 20, 3)))\n"
   ]
  },
  {
   "cell_type": "code",
   "execution_count": 28,
   "metadata": {},
   "outputs": [
    {
     "name": "stdout",
     "output_type": "stream",
     "text": [
      "[-2, -1, 0, 1]\n",
      "[-100, -99, -98, -97, -96]\n"
     ]
    }
   ],
   "source": [
    "#3 example we can use -ve value also\n",
    "print(list(range(-2, 2)))\n",
    "print(list(range(-100, -95)))"
   ]
  },
  {
   "cell_type": "code",
   "execution_count": 31,
   "metadata": {},
   "outputs": [
    {
     "name": "stdout",
     "output_type": "stream",
     "text": [
      "[40, 39, 38, 37, 36, 35, 34, 33, 32, 31, 30, 29, 28, 27, 26, 25, 24, 23, 22, 21, 20, 19, 18, 17, 16, 15, 14, 13, 12, 11, 10, 9, 8, 7, 6, 5, 4, 3, 2, 1, 0, -1, -2, -3, -4, -5, -6, -7, -8, -9]\n",
      "[40, 35, 30, 25, 20, 15, 10, 5, 0, -5]\n"
     ]
    }
   ],
   "source": [
    "#4 example can also use the step argument to count backwards.\n",
    "print(list(range(40, -10, -1)))\n",
    "print(list(range(40, -10, -5)))\n"
   ]
  },
  {
   "cell_type": "code",
   "execution_count": 30,
   "metadata": {},
   "outputs": [
    {
     "name": "stdout",
     "output_type": "stream",
     "text": [
      "0\n",
      "1\n",
      "2\n",
      "3\n",
      "4\n"
     ]
    }
   ],
   "source": [
    "#5 range() function is mostly used with for loop to repeat same operation several times.\n",
    "for i in range(5):\n",
    "    print(i)"
   ]
  },
  {
   "cell_type": "code",
   "execution_count": null,
   "metadata": {},
   "outputs": [],
   "source": []
  }
 ],
 "metadata": {
  "kernelspec": {
   "display_name": "Python 3",
   "language": "python",
   "name": "python3"
  },
  "language_info": {
   "codemirror_mode": {
    "name": "ipython",
    "version": 3
   },
   "file_extension": ".py",
   "mimetype": "text/x-python",
   "name": "python",
   "nbconvert_exporter": "python",
   "pygments_lexer": "ipython3",
   "version": "3.7.6"
  }
 },
 "nbformat": 4,
 "nbformat_minor": 4
}
